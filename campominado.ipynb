{
  "cells": [
    {
      "metadata": {},
      "cell_type": "markdown",
      "source": "<h3> Você fará um divertido jogo de campo minado. <br>\n Para isto, existe um arquivo de texto chamado “field.csv” contendo x colunas e y linhas, com “X” e “   ”. <br>\n “X” indica as bombas e “   ” indica os espaços válidos. Em uma lista de listas, será carregado o conteúdo <br>\n do arquivo CSV e o usuário será perguntado sobre qual posição deseja arriscar. <br>\n Caso a posição informada tenha uma bomba, ele perde o jogo. <br>\n Caso a posição contenha um espaço livre, ele poderá continuar.<br></h3>"
    },
    {
      "metadata": {
        "trusted": true
      },
      "cell_type": "code",
      "source": "import csv\nfrom random import randint",
      "execution_count": 1,
      "outputs": []
    },
    {
      "metadata": {
        "trusted": true
      },
      "cell_type": "code",
      "source": "def criar_arquivo():\n    try:\n        with open(\"Campominado/vencedores.csv\") as f:\n            pass\n    except FileNotFoundError:\n        try:\n            with open(\"Campominado/vencedores.csv\", \"w+\") as f:\n                keys = [\"Data\",\"Campeão\", \"Nível\"]\n                file = csv.DictWriter(f, delimiter = \"\\t\", fieldnames = keys)\n                file.writeheader()\n        except FileNotFoundError:\n            from os import mkdir\n            mkdir(\"Campominado\")\n            return criar_arquivo()",
      "execution_count": 2,
      "outputs": []
    },
    {
      "metadata": {
        "trusted": true
      },
      "cell_type": "code",
      "source": "def save_data(dicio):\n    with open(\"Campominado/field.csv\", \"w+\") as f:\n        headers = [key for key in dicio.keys()]\n        file = csv.DictWriter(f, delimiter=\"\\t\", fieldnames=headers)\n        file2 = csv.writer(f, delimiter = \"\\t\")\n        file.writeheader()\n        for linha, _ in enumerate(dicio[1]):\n            lin = []\n            for col in dicio.keys():\n                v = dicio[col]\n                lin.append(v[linha])\n            file2.writerow(lin)",
      "execution_count": 3,
      "outputs": []
    },
    {
      "metadata": {
        "trusted": true
      },
      "cell_type": "code",
      "source": "def criar_campo(x, y):\n    fill = {0: \" \", 1: \"X\"}\n    dicio = {\" \": [chr(coluna) for coluna in range(65, y+65)]}\n    for col in range(x):\n        coluna = []\n        for row in range(y):\n            coluna.append(fill[randint(0,1)])\n        dicio[col+1] = coluna\n    save_data(dicio)",
      "execution_count": 4,
      "outputs": []
    },
    {
      "metadata": {
        "trusted": true
      },
      "cell_type": "code",
      "source": "def load_data(url):\n    with open(url) as f:\n        file = csv.reader(f, delimiter=\"\\t\")\n        head = 0\n        linhas = []\n        output = []\n        for x in file:\n            if not head:\n                head = x\n            else:\n                linhas.append(x[1:])\n        return linhas",
      "execution_count": 5,
      "outputs": []
    },
    {
      "metadata": {},
      "cell_type": "markdown",
      "source": "### b) Faça uma função chamada “verificaPosicao” que receba como parâmetro o vetor do jogo e uma posição que o usuário deseja arriscar (lembre-se de solicitar ao usuário a posição). A função retornará true caso o usuário tenha acertado uma posição válida ou já tentada antes ou false caso tenha acertado uma bomba. Observe que é preciso saber as posições que o usuário já tentou antes."
    },
    {
      "metadata": {
        "trusted": true
      },
      "cell_type": "code",
      "source": "def validaChute(vetor,chute, x_lim, y_lim):\n    def _chute(chute):\n        try:\n            x = ord(chute[0])-65\n            x = x if x >= 0 else int(chute[0])-1\n            y = int(chute[1])-1\n            return x, y\n        except (IndexError, ValueError):\n            return (x_lim+1, y_lim+1)\n    lin, col = _chute(chute)\n    if lin <= x_lim and col <= y_lim:\n        return (True, lin, col)\n    else:\n        return (False, lin, col)\n        ",
      "execution_count": 6,
      "outputs": []
    },
    {
      "metadata": {
        "trusted": true
      },
      "cell_type": "code",
      "source": "def verificaPosicao(vetor, lin, col):\n    if vetor[lin][col]!= 'X':\n        vetor[lin][col] = str(distanciar((lin, col), vetor))\n        return False\n    else:\n        return True",
      "execution_count": 7,
      "outputs": []
    },
    {
      "metadata": {
        "trusted": true
      },
      "cell_type": "code",
      "source": "def distanciar(ponto, matriz):\n    dists = []\n    distancia = []\n    for m, mat in enumerate(matriz):\n        array2 = []\n        for n, _ in enumerate(mat):\n            if matriz[m][n] == \"X\":\n                dist = min(abs(ponto[0] - m),abs(ponto[1] - n))\n                if dist != 0:\n                    array2.append(dist)\n        dists.append(array2)\n        for x in dists:\n            distancia += x\n    return min(distancia)",
      "execution_count": 8,
      "outputs": []
    },
    {
      "metadata": {
        "trusted": true
      },
      "cell_type": "code",
      "source": "def verificaChute(chute, chutes=[]):\n    if chute in chutes:\n        return False\n    else:\n        return True",
      "execution_count": 9,
      "outputs": []
    },
    {
      "metadata": {},
      "cell_type": "markdown",
      "source": "### Quando o jogador acertar todos os espaços válidos (“O”) ele ganha o jogo e seu nome irá para o “hall da fama” que é um arquivo que gravará seu nome.\n"
    },
    {
      "metadata": {
        "trusted": true
      },
      "cell_type": "code",
      "source": "def salvaVencedor(nome, dificuldade):\n    with open(\"Campominado/vencedores.csv\", \"a+\") as f:\n        data = registrar_data()\n        file = csv.writer(f, delimiter = \"\\t\")\n        data = registrar_data()\n        registro = (data, nome, dificuldade)\n        file.writerow(registro)",
      "execution_count": 10,
      "outputs": []
    },
    {
      "metadata": {
        "trusted": true
      },
      "cell_type": "code",
      "source": "def registrar_data():\n    from datetime import date\n    hoje = date.today()\n    dia = hoje.day\n    mes = hoje.month\n    ano = hoje.year\n    data = f\"{dia}/{mes}/{ano}\"\n    return data",
      "execution_count": 11,
      "outputs": []
    },
    {
      "metadata": {
        "trusted": true
      },
      "cell_type": "code",
      "source": "def dificuldade():\n    nivel = {0: {\"Dificuldade\":\"Muito Fácil\",\"Tamanho\":(3,3)}, 1: {\"Dificuldade\": \"Fácil\", \"Tamanho\": (5,4)},\n             2: {\"Dificuldade\": \"Médio\", \"Tamanho\": (5,5)}, 3: {\"Dificuldade\": \"Díficil\", \"Tamanho\": (6,6)},\n             4: {\"Dificuldade\": \"Lenda\", \"Tamanho\": (7,7)}, 5: {\"Dificuldade\": \"Bomberman\", \"Tamanho\": (8,8)},\n             6: {\"Dificuldade\": \"Personalizado\", \"Tamanho\": (0,0)}}\n    print(\"Selecione dificuldade de jogo\")\n    for x, _ in nivel.items():\n        print(f'{x} - {nivel[x][\"Dificuldade\"]}')\n    opcao = int(input(\">> \"))\n    if opcao in nivel:\n        if opcao == 6:\n            dimensoes = input(\"Digite COL,LIN >> \").split(\",\")\n            dimensoes = (int(x) for x in dimensoes)\n            criar_campo(*dimensoes)\n        else:\n            criar_campo(*nivel[opcao][\"Tamanho\"])\n        return nivel[opcao][\"Dificuldade\"]\n    else:\n        return dificuldade()",
      "execution_count": 12,
      "outputs": []
    },
    {
      "metadata": {
        "trusted": true
      },
      "cell_type": "code",
      "source": "def exibir_campo(lista):\n    saida = []\n    for x, y in enumerate(lista):\n        aux = []\n        for w, z in enumerate(y):\n            if z in \"X \":\n                aux.append(\".\")\n            else:\n                aux.append(z)\n        saida.append(aux)\n\n    head = [\" \"]+[x for x in range(1, len(lista[0])+1)]\n    line = [chr(x+65) for x in range(len(lista))]\n    print(*head, sep = \"\\t\", end=\"\\n\\n\")\n    for index, s in enumerate(saida):\n        valor = [line[index]]+s\n        print(*valor, sep= \"\\t\")    ",
      "execution_count": 13,
      "outputs": []
    },
    {
      "metadata": {},
      "cell_type": "markdown",
      "source": "### a) Na função principal, carregue o vetor com os dados do arquivo texto"
    },
    {
      "metadata": {
        "trusted": true
      },
      "cell_type": "code",
      "source": "def limpar_tela():\n    import os\n    from IPython.display import clear_output\n    clear_output()\n    os.system([\"clear\", \"cls\"][os.name == 'nt'])",
      "execution_count": 14,
      "outputs": []
    },
    {
      "metadata": {
        "trusted": true
      },
      "cell_type": "code",
      "source": "def main():\n    criar_arquivo()\n    nivel = dificuldade()\n    campo = load_data(\"Campominado/field.csv\")\n    elementos = []\n    for linha in campo:\n        elementos += linha\n    y_lim= len(campo)\n    x_lim= len(elementos)/y_lim\n    vazio = [x for x in elementos if x == \" \"]\n    vazio = len(vazio)\n    jogadas_feitas = []\n    bomba = False\n    \n    #c) Faça um loop na função principal onde o jogador poderá continuar a jogar até acertar todos os \n    #espaços válidos ou uma bomba. Lembre-se de encontrar uma forma de saber a quantidade total de espaços válidos.\n    \n    print(\"\\nComo jogar: \\nDigite as coordenadas no formato A1, sendo a letra a coordenada linha e o número a coordenada coluna\\n\")\n    limpar_tela()\n    while not bomba and vazio > 0:\n        print()\n        exibir_campo(campo)\n        palpite = input(\"\\nJogue >> \").upper()\n        if verificaChute(palpite, jogadas_feitas):\n            jogadas_feitas.append(palpite)\n            chute = validaChute(campo, palpite, x_lim, y_lim)\n            if chute[0]:\n                bomba = verificaPosicao(campo, chute[1], chute[2])\n                if bomba:\n                    print(\"Você explodiu, fim de jogo!!\")\n                else:\n                    vazio -= 1\n                    motivacao = {0: \"Só mais uma e você será aclamado campeão\", 1: \"A vitória está próxima, continue assim!!\", 2: \"Persistir é a chave\",\n                                 3: \"Sua intuição é fantástica\", 4: \"Achei que você fosse virar carne moída agora\", 5: \"Bomberman, é você?\",\n                                 6: \"Muito bem\", 7: \"MacGawver teria inveja de seu talento\", 8:\"Quem precisa de detector de bombas?\",\n                                 9: \"Será capaz de repetir esta proeza??\", 10: \"Sorte ou pura habilidade?\", 11:\"TNT, I'm dynamite!!\",\n                                 12: \"I'm power load!!!\", 13: \"Watch me explode!!\"}\n                    msg = randint(1,13)\n                    limpar_tela()\n                    print(motivacao[0] if vazio == 1 else motivacao[msg])\n            else:\n                limpar_tela()\n                print(\"Jogada inválida, atente-se ao intervalo\")\n                \n        else:\n            limpar_tela()\n            print(\"Coordenada já jogada\")\n            \n    #d) Ao fim do loop, caso o usuário tenha acertado todas as posições válidas, solicite seu nome e envie-o\n    #a uma função chamada “salvaVencedor” que salvará este nome em um arquivo CSV chamado “vencedores.csv” \n    #Caso o usuário tenha perdido, basta exibir “Que pena! Tente na próxima vez”.\n    \n    if bomba:\n        print(\"Que pena! Tente na próxima vez\")\n    else:\n        print(\"Parabéns, você venceu. O Hall da fama saúda sua entrada!!!\")\n        nome = input(\"Informe o nome pelo qual deseja ser lembrado >> \")\n        \n        salvaVencedor(nome, nivel)\n        print(f\"{nome}, seja bem-vindo a Valhalla!!\")\n        ",
      "execution_count": 15,
      "outputs": []
    },
    {
      "metadata": {
        "trusted": true,
        "scrolled": true
      },
      "cell_type": "code",
      "source": "main()",
      "execution_count": null,
      "outputs": [
        {
          "output_type": "stream",
          "text": "Será capaz de repetir esta proeza??\n\n \t1\t2\t3\t4\t5\t6\t7\n\nA\t.\t.\t1\t.\t.\t.\t.\nB\t.\t.\t.\t.\t.\t.\t.\nC\t.\t.\t.\t.\t.\t.\t.\nD\t.\t.\t.\t.\t.\t.\t.\nE\t.\t.\t.\t.\t.\t.\t.\nF\t.\t.\t.\t.\t.\t.\t.\nG\t.\t.\t.\t.\t.\t.\t.\n",
          "name": "stdout"
        }
      ]
    },
    {
      "metadata": {
        "trusted": true
      },
      "cell_type": "code",
      "source": "",
      "execution_count": null,
      "outputs": []
    },
    {
      "metadata": {
        "trusted": true
      },
      "cell_type": "code",
      "source": "",
      "execution_count": null,
      "outputs": []
    }
  ],
  "metadata": {
    "kernelspec": {
      "name": "python36",
      "display_name": "Python 3.6",
      "language": "python"
    },
    "language_info": {
      "mimetype": "text/x-python",
      "nbconvert_exporter": "python",
      "name": "python",
      "pygments_lexer": "ipython3",
      "version": "3.6.6",
      "file_extension": ".py",
      "codemirror_mode": {
        "version": 3,
        "name": "ipython"
      }
    }
  },
  "nbformat": 4,
  "nbformat_minor": 2
}
